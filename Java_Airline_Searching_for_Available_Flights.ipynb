{
  "nbformat": 4,
  "nbformat_minor": 0,
  "metadata": {
    "colab": {
      "provenance": []
    },
    "kernelspec": {
      "name": "python3",
      "display_name": "Python 3"
    },
    "language_info": {
      "name": "python"
    }
  },
  "cells": [
    {
      "cell_type": "markdown",
      "source": [
        "This code defines a Flight class with the relevant attributes, such as the departure and destination cities, the departure date, the number of passengers, and the price. It also defines an AirlineReservationSystem class that contains a list of available flights and a searchFlights method that takes the user's inputs and returns a list of available flights that match those inputs.\n",
        "\n",
        "Note that this code is just a starting point and would need to be expanded and modified to create a complete airline reservation system. You would also need to consider other factors, such as seat availability, payment processing, and security, among others."
      ],
      "metadata": {
        "id": "ehxs2NXOuEl1"
      }
    },
    {
      "cell_type": "code",
      "execution_count": null,
      "metadata": {
        "id": "vklN4g7Bt45J"
      },
      "outputs": [],
      "source": [
        "import java.util.ArrayList;\n",
        "import java.util.Date;\n",
        "import java.util.List;\n",
        "\n",
        "public class Flight {\n",
        "    private String departureCity;\n",
        "    private String destinationCity;\n",
        "    private Date departureDate;\n",
        "    private int numPassengers;\n",
        "    private double price;\n",
        "\n",
        "    public Flight(String departureCity, String destinationCity, Date departureDate, int numPassengers, double price) {\n",
        "        this.departureCity = departureCity;\n",
        "        this.destinationCity = destinationCity;\n",
        "        this.departureDate = departureDate;\n",
        "        this.numPassengers = numPassengers;\n",
        "        this.price = price;\n",
        "    }\n",
        "\n",
        "    // getters and setters\n",
        "}\n",
        "\n",
        "public class AirlineReservationSystem {\n",
        "    private List<Flight> flights;\n",
        "\n",
        "    public AirlineReservationSystem() {\n",
        "        // initialize the flights list\n",
        "        flights = new ArrayList<>();\n",
        "        flights.add(new Flight(\"New York\", \"Los Angeles\", new Date(2023, 3, 25), 2, 200.0));\n",
        "        flights.add(new Flight(\"New York\", \"San Francisco\", new Date(2023, 3, 25), 2, 250.0));\n",
        "        flights.add(new Flight(\"New York\", \"Seattle\", new Date(2023, 3, 25), 2, 300.0));\n",
        "    }\n",
        "\n",
        "    public List<Flight> searchFlights(String departureCity, String destinationCity, Date departureDate, int numPassengers) {\n",
        "        List<Flight> availableFlights = new ArrayList<>();\n",
        "        for (Flight flight : flights) {\n",
        "            if (flight.getDepartureCity().equals(departureCity)\n",
        "                    && flight.getDestinationCity().equals(destinationCity)\n",
        "                    && flight.getDepartureDate().equals(departureDate)\n",
        "                    && flight.getNumPassengers() >= numPassengers) {\n",
        "                availableFlights.add(flight);\n",
        "            }\n",
        "        }\n",
        "        return availableFlights;\n",
        "    }\n",
        "}\n"
      ]
    }
  ]
}