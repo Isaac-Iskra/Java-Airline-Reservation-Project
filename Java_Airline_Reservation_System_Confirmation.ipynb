{
  "nbformat": 4,
  "nbformat_minor": 0,
  "metadata": {
    "colab": {
      "provenance": []
    },
    "kernelspec": {
      "name": "python3",
      "display_name": "Python 3"
    },
    "language_info": {
      "name": "python"
    }
  },
  "cells": [
    {
      "cell_type": "markdown",
      "source": [
        "Note that this code snippet assumes that the email service provider is responsible for actually sending the email to the user. The implementation for sending email can vary depending on the email service provider, so the sendConfirmationEmail() method simply prints the message to the console as an example."
      ],
      "metadata": {
        "id": "d7cyJNYaviIJ"
      }
    },
    {
      "cell_type": "code",
      "execution_count": null,
      "metadata": {
        "id": "f6Frjm07vZfN"
      },
      "outputs": [],
      "source": [
        "import java.util.Date;\n",
        "import java.util.Scanner;\n",
        "\n",
        "public class FlightReservation {\n",
        "    private String departureCity;\n",
        "    private String destinationCity;\n",
        "    private Date departureDate;\n",
        "    private int numPassengers;\n",
        "    private double price;\n",
        "    private String firstName;\n",
        "    private String lastName;\n",
        "    private String emailAddress;\n",
        "\n",
        "    public FlightReservation(String departureCity, String destinationCity, Date departureDate, int numPassengers, double price,\n",
        "                             String firstName, String lastName, String emailAddress) {\n",
        "        this.departureCity = departureCity;\n",
        "        this.destinationCity = destinationCity;\n",
        "        this.departureDate = departureDate;\n",
        "        this.numPassengers = numPassengers;\n",
        "        this.price = price;\n",
        "        this.firstName = firstName;\n",
        "        this.lastName = lastName;\n",
        "        this.emailAddress = emailAddress;\n",
        "    }\n",
        "\n",
        "    // getters and setters\n",
        "\n",
        "    public void sendConfirmationEmail() {\n",
        "        String message = \"Dear \" + firstName + \" \" + lastName + \",\\n\\n\" +\n",
        "                \"Thank you for booking your flight with us!\\n\\n\" +\n",
        "                \"Your reservation for the following flight has been confirmed:\\n\" +\n",
        "                \"Departure city: \" + departureCity + \"\\n\" +\n",
        "                \"Destination city: \" + destinationCity + \"\\n\" +\n",
        "                \"Departure date: \" + departureDate + \"\\n\" +\n",
        "                \"Number of passengers: \" + numPassengers + \"\\n\" +\n",
        "                \"Price: $\" + price + \"\\n\\n\" +\n",
        "                \"We look forward to having you onboard our flight.\\n\\n\" +\n",
        "                \"Best regards,\\n\" +\n",
        "                \"The Airline Team\";\n",
        "\n",
        "        // send the email to the user\n",
        "        // implementation for sending email can vary depending on the email service provider\n",
        "        // here is an example implementation that prints the message to the console\n",
        "        System.out.println(\"Sending confirmation email to \" + emailAddress + \"...\");\n",
        "        System.out.println(\"Message:\\n\" + message);\n",
        "        System.out.println(\"Confirmation email sent successfully!\");\n",
        "    }\n",
        "\n",
        "    public static void main(String[] args) {\n",
        "        Scanner scanner = new Scanner(System.in);\n",
        "        System.out.println(\"Welcome to the flight reservation system!\");\n",
        "        System.out.print(\"Departure city: \");\n",
        "        String departureCity = scanner.nextLine();\n",
        "        System.out.print(\"Destination city: \");\n",
        "        String destinationCity = scanner.nextLine();\n",
        "        System.out.print(\"Departure date (YYYY-MM-DD): \");\n",
        "        Date departureDate = new Date(scanner.nextLine()); // assuming the user inputs the date in YYYY-MM-DD format\n",
        "        System.out.print(\"Number of passengers: \");\n",
        "        int numPassengers = scanner.nextInt();\n",
        "        System.out.print(\"Price per ticket: \");\n",
        "        double price = scanner.nextDouble();\n",
        "        System.out.println(\"Please enter your personal information:\");\n",
        "        System.out.print(\"First name: \");\n",
        "        String firstName = scanner.nextLine();\n",
        "        System.out.print(\"Last name: \");\n",
        "        String lastName = scanner.nextLine();\n",
        "        System.out.print(\"Email address: \");\n",
        "        String emailAddress = scanner.nextLine();\n",
        "\n",
        "        // create the reservation\n",
        "        FlightReservation reservation = new FlightReservation(departureCity, destinationCity, departureDate, numPassengers, price,\n",
        "                firstName, lastName, emailAddress);\n",
        "\n",
        "        // send the confirmation email to the user\n",
        "        reservation.sendConfirmationEmail();\n",
        "    }\n",
        "}\n"
      ]
    }
  ]
}