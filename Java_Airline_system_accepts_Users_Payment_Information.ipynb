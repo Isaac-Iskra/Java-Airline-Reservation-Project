{
  "nbformat": 4,
  "nbformat_minor": 0,
  "metadata": {
    "colab": {
      "provenance": []
    },
    "kernelspec": {
      "name": "python3",
      "display_name": "Python 3"
    },
    "language_info": {
      "name": "python"
    }
  },
  "cells": [
    {
      "cell_type": "markdown",
      "source": [],
      "metadata": {
        "id": "y0qOLSthu997"
      }
    },
    {
      "cell_type": "code",
      "execution_count": null,
      "metadata": {
        "id": "RS99oDwdu6qn"
      },
      "outputs": [],
      "source": [
        "import java.util.ArrayList;\n",
        "import java.util.Date;\n",
        "import java.util.List;\n",
        "import java.util.Scanner;\n",
        "\n",
        "public class Flight {\n",
        "    private String departureCity;\n",
        "    private String destinationCity;\n",
        "    private Date departureDate;\n",
        "    private int numPassengers;\n",
        "    private double price;\n",
        "\n",
        "    public Flight(String departureCity, String destinationCity, Date departureDate, int numPassengers, double price) {\n",
        "        this.departureCity = departureCity;\n",
        "        this.destinationCity = destinationCity;\n",
        "        this.departureDate = departureDate;\n",
        "        this.numPassengers = numPassengers;\n",
        "        this.price = price;\n",
        "    }\n",
        "\n",
        "    // getters and setters\n",
        "}\n",
        "\n",
        "public class AirlineReservationSystem {\n",
        "    private List<Flight> flights;\n",
        "\n",
        "    public AirlineReservationSystem() {\n",
        "        // initialize the flights list\n",
        "        flights = new ArrayList<>();\n",
        "        flights.add(new Flight(\"New York\", \"Los Angeles\", new Date(2023, 3, 25), 2, 200.0));\n",
        "        flights.add(new Flight(\"New York\", \"San Francisco\", new Date(2023, 3, 25), 2, 250.0));\n",
        "        flights.add(new Flight(\"New York\", \"Seattle\", new Date(2023, 3, 25), 2, 300.0));\n",
        "    }\n",
        "\n",
        "    public List<Flight> searchFlights(String departureCity, String destinationCity, Date departureDate, int numPassengers) {\n",
        "        List<Flight> availableFlights = new ArrayList<>();\n",
        "        for (Flight flight : flights) {\n",
        "            if (flight.getDepartureCity().equals(departureCity)\n",
        "                    && flight.getDestinationCity().equals(destinationCity)\n",
        "                    && flight.getDepartureDate().equals(departureDate)\n",
        "                    && flight.getNumPassengers() >= numPassengers) {\n",
        "                availableFlights.add(flight);\n",
        "            }\n",
        "        }\n",
        "        return availableFlights;\n",
        "    }\n",
        "\n",
        "    public Flight selectFlight(List<Flight> availableFlights) {\n",
        "        Scanner scanner = new Scanner(System.in);\n",
        "        System.out.println(\"Available flights:\");\n",
        "        for (int i = 0; i < availableFlights.size(); i++) {\n",
        "            Flight flight = availableFlights.get(i);\n",
        "            System.out.println((i + 1) + \". \" + flight.getDepartureCity() + \" to \" + flight.getDestinationCity() + \", \" + flight.getDepartureDate() + \", $\" + flight.getPrice());\n",
        "        }\n",
        "        System.out.println(\"Select a flight by entering its number:\");\n",
        "        int selection = scanner.nextInt();\n",
        "        return availableFlights.get(selection - 1);\n",
        "    }\n",
        "\n",
        "    public void bookFlight(Flight selectedFlight) {\n",
        "        Scanner scanner = new Scanner(System.in);\n",
        "        System.out.println(\"Please enter your personal information:\");\n",
        "        System.out.print(\"First name: \");\n",
        "        String firstName = scanner.nextLine();\n",
        "        System.out.print(\"Last name: \");\n",
        "        String lastName = scanner.nextLine();\n",
        "        System.out.print(\"Email address: \");\n",
        "        String emailAddress = scanner.nextLine();\n",
        "        System.out.println(\"Please enter your payment information:\");\n",
        "        System.out.print(\"Credit card number: \");\n",
        "        String creditCardNumber = scanner.nextLine();\n",
        "        System.out.print(\"Expiration date (MM/YY): \");\n",
        "        String expirationDate = scanner.nextLine();\n",
        "        System.out.print(\"CVV: \");\n",
        "        String cvv = scanner.nextLine();\n",
        "        System.out.println(\"Thank you for booking your flight with us! Here are your booking details:\");\n",
        "        System.out.println(\"Flight: \" + selectedFlight.getDepartureCity() + \" to \" + selectedFlight.getDestinationCity() + \", \" + selectedFlight.getDepartureDate() + \", $\" + selectedFlight\n"
      ]
    }
  ]
}