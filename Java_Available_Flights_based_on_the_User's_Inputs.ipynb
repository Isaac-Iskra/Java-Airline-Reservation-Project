{
  "nbformat": 4,
  "nbformat_minor": 0,
  "metadata": {
    "colab": {
      "provenance": []
    },
    "kernelspec": {
      "name": "python3",
      "display_name": "Python 3"
    },
    "language_info": {
      "name": "python"
    }
  },
  "cells": [
    {
      "cell_type": "markdown",
      "source": [
        "In this example, the searchFlights method filters the available flights to only those departing from New York and going to the user-specified destination city on the user-specified date with at least the number of passengers the user requested. The method returns a list of Flight objects that match these criteria.\n",
        "\n",
        "To use this code, you can create an instance of AirlineReservationSystem and call the searchFlights method with the user's inputs. The method will return a list of available flights, which you can then display to the user or use to prompt them to select a specific flight."
      ],
      "metadata": {
        "id": "VJc7hn8TubxX"
      }
    },
    {
      "cell_type": "code",
      "execution_count": null,
      "metadata": {
        "id": "BKjt4zAIuYXE"
      },
      "outputs": [],
      "source": [
        "import java.util.ArrayList;\n",
        "import java.util.Date;\n",
        "import java.util.List;\n",
        "\n",
        "public class Flight {\n",
        "    private String departureCity;\n",
        "    private String destinationCity;\n",
        "    private Date departureDate;\n",
        "    private int numPassengers;\n",
        "    private double price;\n",
        "\n",
        "    public Flight(String departureCity, String destinationCity, Date departureDate, int numPassengers, double price) {\n",
        "        this.departureCity = departureCity;\n",
        "        this.destinationCity = destinationCity;\n",
        "        this.departureDate = departureDate;\n",
        "        this.numPassengers = numPassengers;\n",
        "        this.price = price;\n",
        "    }\n",
        "\n",
        "    // getters and setters\n",
        "}\n",
        "\n",
        "public class AirlineReservationSystem {\n",
        "    private List<Flight> flights;\n",
        "\n",
        "    public AirlineReservationSystem() {\n",
        "        // initialize the flights list\n",
        "        flights = new ArrayList<>();\n",
        "        flights.add(new Flight(\"New York\", \"Los Angeles\", new Date(2023, 3, 25), 2, 200.0));\n",
        "        flights.add(new Flight(\"New York\", \"San Francisco\", new Date(2023, 3, 25), 2, 250.0));\n",
        "        flights.add(new Flight(\"New York\", \"Seattle\", new Date(2023, 3, 25), 2, 300.0));\n",
        "    }\n",
        "\n",
        "    public List<Flight> searchFlights(String departureCity, String destinationCity, Date departureDate, int numPassengers) {\n",
        "        List<Flight> availableFlights = new ArrayList<>();\n",
        "        for (Flight flight : flights) {\n",
        "            if (flight.getDepartureCity().equals(\"New York\")\n",
        "                    && flight.getDestinationCity().equals(destinationCity)\n",
        "                    && flight.getDepartureDate().equals(departureDate)\n",
        "                    && flight.getNumPassengers() >= numPassengers) {\n",
        "                availableFlights.add(flight);\n",
        "            }\n",
        "        }\n",
        "        return availableFlights;\n",
        "    }\n",
        "}\n",
        "\n",
        "// Example usage:\n",
        "AirlineReservationSystem system = new AirlineReservationSystem();\n",
        "List<Flight> availableFlights = system.searchFlights(\"New York\", \"San Francisco\", new Date(2023, 3, 25), 2);\n",
        "System.out.println(\"Available flights: \" + availableFlights);\n"
      ]
    }
  ]
}